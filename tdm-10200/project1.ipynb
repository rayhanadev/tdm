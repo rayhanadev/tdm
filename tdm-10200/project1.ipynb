{
 "cells": [
  {
   "cell_type": "markdown",
   "id": "be02a957-7133-4d02-818e-fedeb3cecb05",
   "metadata": {},
   "source": [
    "# Project 1 -- Ray Arayilakath"
   ]
  },
  {
   "cell_type": "markdown",
   "id": "a1228853-dd19-4ab2-89e0-0394d7d72de3",
   "metadata": {},
   "source": [
    "**TA Help:** N/A\\\n",
    "**Collaboration:** N/A"
   ]
  },
  {
   "cell_type": "markdown",
   "id": "6180e742-8e39-4698-98ff-5b00c8cf8ea0",
   "metadata": {},
   "source": [
    "## Question 1"
   ]
  },
  {
   "cell_type": "code",
   "execution_count": 34,
   "id": "49445606-d363-41b4-b479-e319a9a84c01",
   "metadata": {},
   "outputs": [
    {
     "data": {
      "text/html": [
       "<div>\n",
       "<style scoped>\n",
       "    .dataframe tbody tr th:only-of-type {\n",
       "        vertical-align: middle;\n",
       "    }\n",
       "\n",
       "    .dataframe tbody tr th {\n",
       "        vertical-align: top;\n",
       "    }\n",
       "\n",
       "    .dataframe thead th {\n",
       "        text-align: right;\n",
       "    }\n",
       "</style>\n",
       "<table border=\"1\" class=\"dataframe\">\n",
       "  <thead>\n",
       "    <tr style=\"text-align: right;\">\n",
       "      <th></th>\n",
       "      <th>iata</th>\n",
       "      <th>airport</th>\n",
       "      <th>city</th>\n",
       "      <th>state</th>\n",
       "      <th>country</th>\n",
       "      <th>lat</th>\n",
       "      <th>long</th>\n",
       "    </tr>\n",
       "  </thead>\n",
       "  <tbody>\n",
       "    <tr>\n",
       "      <th>0</th>\n",
       "      <td>00M</td>\n",
       "      <td>Thigpen</td>\n",
       "      <td>Bay Springs</td>\n",
       "      <td>MS</td>\n",
       "      <td>USA</td>\n",
       "      <td>31.953765</td>\n",
       "      <td>-89.234505</td>\n",
       "    </tr>\n",
       "    <tr>\n",
       "      <th>1</th>\n",
       "      <td>00R</td>\n",
       "      <td>Livingston Municipal</td>\n",
       "      <td>Livingston</td>\n",
       "      <td>TX</td>\n",
       "      <td>USA</td>\n",
       "      <td>30.685861</td>\n",
       "      <td>-95.017928</td>\n",
       "    </tr>\n",
       "    <tr>\n",
       "      <th>2</th>\n",
       "      <td>00V</td>\n",
       "      <td>Meadow Lake</td>\n",
       "      <td>Colorado Springs</td>\n",
       "      <td>CO</td>\n",
       "      <td>USA</td>\n",
       "      <td>38.945749</td>\n",
       "      <td>-104.569893</td>\n",
       "    </tr>\n",
       "    <tr>\n",
       "      <th>3</th>\n",
       "      <td>01G</td>\n",
       "      <td>Perry-Warsaw</td>\n",
       "      <td>Perry</td>\n",
       "      <td>NY</td>\n",
       "      <td>USA</td>\n",
       "      <td>42.741347</td>\n",
       "      <td>-78.052081</td>\n",
       "    </tr>\n",
       "    <tr>\n",
       "      <th>4</th>\n",
       "      <td>01J</td>\n",
       "      <td>Hilliard Airpark</td>\n",
       "      <td>Hilliard</td>\n",
       "      <td>FL</td>\n",
       "      <td>USA</td>\n",
       "      <td>30.688012</td>\n",
       "      <td>-81.905944</td>\n",
       "    </tr>\n",
       "  </tbody>\n",
       "</table>\n",
       "</div>"
      ],
      "text/plain": [
       "  iata               airport              city state country        lat  \\\n",
       "0  00M              Thigpen        Bay Springs    MS     USA  31.953765   \n",
       "1  00R  Livingston Municipal        Livingston    TX     USA  30.685861   \n",
       "2  00V           Meadow Lake  Colorado Springs    CO     USA  38.945749   \n",
       "3  01G          Perry-Warsaw             Perry    NY     USA  42.741347   \n",
       "4  01J      Hilliard Airpark          Hilliard    FL     USA  30.688012   \n",
       "\n",
       "         long  \n",
       "0  -89.234505  \n",
       "1  -95.017928  \n",
       "2 -104.569893  \n",
       "3  -78.052081  \n",
       "4  -81.905944  "
      ]
     },
     "execution_count": 34,
     "metadata": {},
     "output_type": "execute_result"
    }
   ],
   "source": [
    "import pandas as pd\n",
    "myDF = pd.read_csv(\"/anvil/projects/tdm/data/flights/subset/airports.csv\")\n",
    "myDF.head()"
   ]
  },
  {
   "cell_type": "markdown",
   "id": "b456e57c-4a12-464b-999a-ef2df5af80c1",
   "metadata": {},
   "source": [
    "Following the tutorial in the Example Book, I import the pandas library and read the CSV file provided by TDM containing airport data into a pandas dataframe. I then use the `#.head()` method of a dataframe to output the first five rows of the dataframe."
   ]
  },
  {
   "cell_type": "markdown",
   "id": "fc601975-35ed-4680-a4e1-0273ee3cc047",
   "metadata": {},
   "source": [
    "## Question 2"
   ]
  },
  {
   "cell_type": "code",
   "execution_count": 35,
   "id": "a16336a1-1ef0-41e8-bc7c-49387db27497",
   "metadata": {},
   "outputs": [
    {
     "data": {
      "text/plain": [
       "(3376, 7)"
      ]
     },
     "execution_count": 35,
     "metadata": {},
     "output_type": "execute_result"
    }
   ],
   "source": [
    "myDF.shape"
   ]
  },
  {
   "cell_type": "code",
   "execution_count": 36,
   "id": "d010c7e1-6831-4206-982c-bdb2226e1df5",
   "metadata": {},
   "outputs": [
    {
     "data": {
      "text/html": [
       "<div>\n",
       "<style scoped>\n",
       "    .dataframe tbody tr th:only-of-type {\n",
       "        vertical-align: middle;\n",
       "    }\n",
       "\n",
       "    .dataframe tbody tr th {\n",
       "        vertical-align: top;\n",
       "    }\n",
       "\n",
       "    .dataframe thead th {\n",
       "        text-align: right;\n",
       "    }\n",
       "</style>\n",
       "<table border=\"1\" class=\"dataframe\">\n",
       "  <thead>\n",
       "    <tr style=\"text-align: right;\">\n",
       "      <th></th>\n",
       "      <th>iata</th>\n",
       "      <th>airport</th>\n",
       "      <th>city</th>\n",
       "      <th>state</th>\n",
       "      <th>country</th>\n",
       "      <th>lat</th>\n",
       "      <th>long</th>\n",
       "    </tr>\n",
       "  </thead>\n",
       "  <tbody>\n",
       "    <tr>\n",
       "      <th>3371</th>\n",
       "      <td>ZEF</td>\n",
       "      <td>Elkin Municipal</td>\n",
       "      <td>Elkin</td>\n",
       "      <td>NC</td>\n",
       "      <td>USA</td>\n",
       "      <td>36.280024</td>\n",
       "      <td>-80.786069</td>\n",
       "    </tr>\n",
       "    <tr>\n",
       "      <th>3372</th>\n",
       "      <td>ZER</td>\n",
       "      <td>Schuylkill Cty/Joe Zerbey</td>\n",
       "      <td>Pottsville</td>\n",
       "      <td>PA</td>\n",
       "      <td>USA</td>\n",
       "      <td>40.706449</td>\n",
       "      <td>-76.373147</td>\n",
       "    </tr>\n",
       "    <tr>\n",
       "      <th>3373</th>\n",
       "      <td>ZPH</td>\n",
       "      <td>Zephyrhills Municipal</td>\n",
       "      <td>Zephyrhills</td>\n",
       "      <td>FL</td>\n",
       "      <td>USA</td>\n",
       "      <td>28.228065</td>\n",
       "      <td>-82.155916</td>\n",
       "    </tr>\n",
       "    <tr>\n",
       "      <th>3374</th>\n",
       "      <td>ZUN</td>\n",
       "      <td>Black Rock</td>\n",
       "      <td>Zuni</td>\n",
       "      <td>NM</td>\n",
       "      <td>USA</td>\n",
       "      <td>35.083227</td>\n",
       "      <td>-108.791777</td>\n",
       "    </tr>\n",
       "    <tr>\n",
       "      <th>3375</th>\n",
       "      <td>ZZV</td>\n",
       "      <td>Zanesville Municipal</td>\n",
       "      <td>Zanesville</td>\n",
       "      <td>OH</td>\n",
       "      <td>USA</td>\n",
       "      <td>39.944458</td>\n",
       "      <td>-81.892105</td>\n",
       "    </tr>\n",
       "  </tbody>\n",
       "</table>\n",
       "</div>"
      ],
      "text/plain": [
       "     iata                    airport         city state country        lat  \\\n",
       "3371  ZEF            Elkin Municipal        Elkin    NC     USA  36.280024   \n",
       "3372  ZER  Schuylkill Cty/Joe Zerbey   Pottsville    PA     USA  40.706449   \n",
       "3373  ZPH      Zephyrhills Municipal  Zephyrhills    FL     USA  28.228065   \n",
       "3374  ZUN                 Black Rock         Zuni    NM     USA  35.083227   \n",
       "3375  ZZV       Zanesville Municipal   Zanesville    OH     USA  39.944458   \n",
       "\n",
       "            long  \n",
       "3371  -80.786069  \n",
       "3372  -76.373147  \n",
       "3373  -82.155916  \n",
       "3374 -108.791777  \n",
       "3375  -81.892105  "
      ]
     },
     "execution_count": 36,
     "metadata": {},
     "output_type": "execute_result"
    }
   ],
   "source": [
    "myDF.tail()"
   ]
  },
  {
   "cell_type": "code",
   "execution_count": 37,
   "id": "0a5248ef-9805-46a3-9a86-39985bd0ca91",
   "metadata": {},
   "outputs": [
    {
     "data": {
      "text/html": [
       "<div>\n",
       "<style scoped>\n",
       "    .dataframe tbody tr th:only-of-type {\n",
       "        vertical-align: middle;\n",
       "    }\n",
       "\n",
       "    .dataframe tbody tr th {\n",
       "        vertical-align: top;\n",
       "    }\n",
       "\n",
       "    .dataframe thead th {\n",
       "        text-align: right;\n",
       "    }\n",
       "</style>\n",
       "<table border=\"1\" class=\"dataframe\">\n",
       "  <thead>\n",
       "    <tr style=\"text-align: right;\">\n",
       "      <th></th>\n",
       "      <th>iata</th>\n",
       "      <th>airport</th>\n",
       "      <th>city</th>\n",
       "      <th>state</th>\n",
       "      <th>country</th>\n",
       "      <th>lat</th>\n",
       "      <th>long</th>\n",
       "    </tr>\n",
       "  </thead>\n",
       "  <tbody>\n",
       "    <tr>\n",
       "      <th>1318</th>\n",
       "      <td>DWH</td>\n",
       "      <td>David Wayne Hooks Memorial</td>\n",
       "      <td>Houston</td>\n",
       "      <td>TX</td>\n",
       "      <td>USA</td>\n",
       "      <td>30.061861</td>\n",
       "      <td>-95.552778</td>\n",
       "    </tr>\n",
       "    <tr>\n",
       "      <th>1366</th>\n",
       "      <td>EFD</td>\n",
       "      <td>Ellington</td>\n",
       "      <td>Houston</td>\n",
       "      <td>TX</td>\n",
       "      <td>USA</td>\n",
       "      <td>29.607333</td>\n",
       "      <td>-95.158750</td>\n",
       "    </tr>\n",
       "    <tr>\n",
       "      <th>1748</th>\n",
       "      <td>HOU</td>\n",
       "      <td>William P Hobby</td>\n",
       "      <td>Houston</td>\n",
       "      <td>TX</td>\n",
       "      <td>USA</td>\n",
       "      <td>29.645419</td>\n",
       "      <td>-95.278889</td>\n",
       "    </tr>\n",
       "    <tr>\n",
       "      <th>1837</th>\n",
       "      <td>IAH</td>\n",
       "      <td>George Bush Intercontinental</td>\n",
       "      <td>Houston</td>\n",
       "      <td>TX</td>\n",
       "      <td>USA</td>\n",
       "      <td>29.980472</td>\n",
       "      <td>-95.339722</td>\n",
       "    </tr>\n",
       "    <tr>\n",
       "      <th>1898</th>\n",
       "      <td>IWS</td>\n",
       "      <td>West Houston</td>\n",
       "      <td>Houston</td>\n",
       "      <td>TX</td>\n",
       "      <td>USA</td>\n",
       "      <td>29.818194</td>\n",
       "      <td>-95.672611</td>\n",
       "    </tr>\n",
       "    <tr>\n",
       "      <th>2114</th>\n",
       "      <td>LVJ</td>\n",
       "      <td>Clover</td>\n",
       "      <td>Houston</td>\n",
       "      <td>TX</td>\n",
       "      <td>USA</td>\n",
       "      <td>29.521306</td>\n",
       "      <td>-95.242167</td>\n",
       "    </tr>\n",
       "    <tr>\n",
       "      <th>2941</th>\n",
       "      <td>SGR</td>\n",
       "      <td>Sugar Land Municipal/Hull</td>\n",
       "      <td>Houston</td>\n",
       "      <td>TX</td>\n",
       "      <td>USA</td>\n",
       "      <td>29.622253</td>\n",
       "      <td>-95.656529</td>\n",
       "    </tr>\n",
       "    <tr>\n",
       "      <th>3004</th>\n",
       "      <td>SPX</td>\n",
       "      <td>Houston-Gulf</td>\n",
       "      <td>Houston</td>\n",
       "      <td>TX</td>\n",
       "      <td>USA</td>\n",
       "      <td>29.508361</td>\n",
       "      <td>-95.051333</td>\n",
       "    </tr>\n",
       "  </tbody>\n",
       "</table>\n",
       "</div>"
      ],
      "text/plain": [
       "     iata                       airport     city state country        lat  \\\n",
       "1318  DWH    David Wayne Hooks Memorial  Houston    TX     USA  30.061861   \n",
       "1366  EFD                    Ellington   Houston    TX     USA  29.607333   \n",
       "1748  HOU               William P Hobby  Houston    TX     USA  29.645419   \n",
       "1837  IAH  George Bush Intercontinental  Houston    TX     USA  29.980472   \n",
       "1898  IWS                  West Houston  Houston    TX     USA  29.818194   \n",
       "2114  LVJ                       Clover   Houston    TX     USA  29.521306   \n",
       "2941  SGR    Sugar Land Municipal/Hull   Houston    TX     USA  29.622253   \n",
       "3004  SPX                  Houston-Gulf  Houston    TX     USA  29.508361   \n",
       "\n",
       "           long  \n",
       "1318 -95.552778  \n",
       "1366 -95.158750  \n",
       "1748 -95.278889  \n",
       "1837 -95.339722  \n",
       "1898 -95.672611  \n",
       "2114 -95.242167  \n",
       "2941 -95.656529  \n",
       "3004 -95.051333  "
      ]
     },
     "execution_count": 37,
     "metadata": {},
     "output_type": "execute_result"
    }
   ],
   "source": [
    "myDF[(myDF['city'] == 'Houston') & (myDF['state'] == 'TX')]"
   ]
  },
  {
   "cell_type": "markdown",
   "id": "14dc22d4-ddc3-41cc-a91a-cb0025bc0c80",
   "metadata": {},
   "source": [
    "In these three cells, I try using the `#.shape()` method to determine the number of rows and columns the dataframe has. I also try using the `#.tail()` method which has the opposite function of the `#.head()` where it outputs the last five rows of the dataframe. Lastly, I experimented with querying items from the dataframe, first querying flights from New York City, NY. Then, I tried querying flights from Indianapolis, IN. Lastly, I queried flights from Houston, TX."
   ]
  },
  {
   "cell_type": "markdown",
   "id": "8e586edd-ff26-4ce2-8f6b-2424b26f2929",
   "metadata": {},
   "source": [
    "## Question 3"
   ]
  },
  {
   "cell_type": "code",
   "execution_count": 38,
   "id": "bbe0f40d-9655-4653-9ca8-886bdb61cb91",
   "metadata": {},
   "outputs": [
    {
     "data": {
      "text/plain": [
       "state\n",
       "AK    263\n",
       "TX    209\n",
       "CA    205\n",
       "OK    102\n",
       "FL    100\n",
       "OH    100\n",
       "GA     97\n",
       "NY     97\n",
       "MI     94\n",
       "MN     89\n",
       "IL     88\n",
       "WI     84\n",
       "KS     78\n",
       "IA     78\n",
       "MO     74\n",
       "AR     74\n",
       "AL     73\n",
       "NE     73\n",
       "NC     72\n",
       "MS     72\n",
       "MT     71\n",
       "PA     71\n",
       "TN     70\n",
       "IN     65\n",
       "WA     65\n",
       "AZ     59\n",
       "OR     57\n",
       "SD     57\n",
       "LA     55\n",
       "ND     52\n",
       "SC     52\n",
       "NM     51\n",
       "KY     50\n",
       "CO     49\n",
       "VA     47\n",
       "ID     37\n",
       "UT     35\n",
       "NJ     35\n",
       "ME     34\n",
       "NV     32\n",
       "WY     32\n",
       "MA     30\n",
       "WV     24\n",
       "MD     18\n",
       "HI     16\n",
       "CT     15\n",
       "NH     14\n",
       "VT     13\n",
       "PR     11\n",
       "RI      6\n",
       "DE      5\n",
       "VI      5\n",
       "CQ      4\n",
       "AS      3\n",
       "DC      1\n",
       "GU      1\n",
       "Name: count, dtype: int64"
      ]
     },
     "execution_count": 38,
     "metadata": {},
     "output_type": "execute_result"
    }
   ],
   "source": [
    "myDF['state'].value_counts()"
   ]
  },
  {
   "cell_type": "code",
   "execution_count": 39,
   "id": "2375fcea-0663-4fe8-91c7-297697455880",
   "metadata": {},
   "outputs": [],
   "source": [
    "mycounts = myDF['state'].value_counts().head()"
   ]
  },
  {
   "cell_type": "code",
   "execution_count": 40,
   "id": "d8f18dfa-0814-4502-85ae-6c406366d0df",
   "metadata": {},
   "outputs": [
    {
     "data": {
      "text/plain": [
       "<BarContainer object of 5 artists>"
      ]
     },
     "execution_count": 40,
     "metadata": {},
     "output_type": "execute_result"
    },
    {
     "data": {
      "image/png": "[encoded data removed]",
      "text/plain": [
       "<Figure size 640x480 with 1 Axes>"
      ]
     },
     "metadata": {},
     "output_type": "display_data"
    }
   ],
   "source": [
    "import matplotlib.pyplot as plt\n",
    "plt.bar(mycounts.index, mycounts)"
   ]
  },
  {
   "cell_type": "markdown",
   "id": "47c6229f-35f7-400c-8366-c442baa5cf47",
   "metadata": {},
   "source": [
    "For this question I experimented with the `#.value_counts()` method, outputting the aggregate number of airports in each state. I also generate a bar graph using `matplotlib` that displays the top five states with the highest airport counts."
   ]
  },
  {
   "cell_type": "markdown",
   "id": "da22f29c-d245-4d2b-9fc1-ca14cb6087d9",
   "metadata": {},
   "source": [
    "## Question 4"
   ]
  },
  {
   "cell_type": "code",
   "execution_count": 41,
   "id": "8cffc767-d1c8-4d64-b7dc-f0d2ee8a80d1",
   "metadata": {},
   "outputs": [
    {
     "data": {
      "text/plain": [
       "brand\n",
       "hd         70\n",
       "breyers    69\n",
       "bj         57\n",
       "talenti    45\n",
       "Name: count, dtype: int64"
      ]
     },
     "execution_count": 41,
     "metadata": {},
     "output_type": "execute_result"
    }
   ],
   "source": [
    "ice_cream_products_df = pd.read_csv(\"/anvil/projects/tdm/data/icecream/combined/products.csv\")\n",
    "ice_cream_brands = ice_cream_products_df[\"brand\"].value_counts()\n",
    "\n",
    "ice_cream_brands"
   ]
  },
  {
   "cell_type": "markdown",
   "id": "0d552245-b4d6-474a-9cc9-fa7b8e674d55",
   "metadata": {},
   "source": [
    "To solve this problem, I first initialized a new dataframe using the `pd.read_csv()` function to read data from the ice cream products dataset. I then select the brand column of the dataframe and get the aggregate number of rows for each unique value of `brand` using the `#.value_counts()` method.\n",
    "\n",
    "Ultimately, I get the following counts:\n",
    "- HD: 70\n",
    "- Breyers: 69\n",
    "- BJ: 57\n",
    "- Talenti: 45"
   ]
  },
  {
   "cell_type": "code",
   "execution_count": 42,
   "id": "131647bf-646b-4573-a8d9-4be4291fc4b8",
   "metadata": {},
   "outputs": [
    {
     "data": {
      "text/plain": [
       "brand\n",
       "bj         7943\n",
       "breyers    5007\n",
       "hd         4655\n",
       "talenti    4069\n",
       "Name: count, dtype: int64"
      ]
     },
     "execution_count": 42,
     "metadata": {},
     "output_type": "execute_result"
    }
   ],
   "source": [
    "ice_cream_reviews_df = pd.read_csv(\"/anvil/projects/tdm/data/icecream/combined/reviews.csv\")\n",
    "ice_cream_reviews = ice_cream_reviews_df[\"brand\"].value_counts()\n",
    "\n",
    "ice_cream_reviews"
   ]
  },
  {
   "cell_type": "markdown",
   "id": "3249ecdb-daf2-488e-af61-737e1efe22b9",
   "metadata": {},
   "source": [
    "Similar to above, I initialize a new dataframe containing the values of the ice cream reviews dataset using `pd.read_csv()`. I then select the brand column of this dataframe and get the aggregate number of rows for each unique value of `brand` using the `#.value_counts()` method.\n",
    "\n",
    "The results were:\n",
    "- BJ: 7943\n",
    "- Breyers: 5007\n",
    "- HD: 4655\n",
    "- Talenti: 4069"
   ]
  },
  {
   "cell_type": "markdown",
   "id": "88c9cdac-3e92-498f-83fa-e089bfc44ac8",
   "metadata": {},
   "source": [
    "## Question 5"
   ]
  },
  {
   "cell_type": "code",
   "execution_count": 43,
   "id": "d370d7c9-06db-42b9-b75f-240481a5c491",
   "metadata": {},
   "outputs": [
    {
     "data": {
      "text/plain": [
       "<BarContainer object of 4 artists>"
      ]
     },
     "execution_count": 43,
     "metadata": {},
     "output_type": "execute_result"
    },
    {
     "data": {
      "image/png": "[encoded data removed]",
      "text/plain": [
       "<Figure size 640x480 with 1 Axes>"
      ]
     },
     "metadata": {},
     "output_type": "display_data"
    }
   ],
   "source": [
    "plt.bar(ice_cream_brands.index, ice_cream_brands)"
   ]
  },
  {
   "cell_type": "markdown",
   "id": "42a3603d-6a87-4723-b1a7-911121ff573b",
   "metadata": {},
   "source": [
    "I use the data loaded into the variable `ice_cream_brands` to generate the above bar graph using `matplotlib`. It displays the occurrence of each brand in the products dataset and sorts the counts from greatest to least."
   ]
  },
  {
   "cell_type": "code",
   "execution_count": 44,
   "id": "e4e4f51a-f98c-40ea-99be-bf9286d3688f",
   "metadata": {},
   "outputs": [
    {
     "data": {
      "text/plain": [
       "<BarContainer object of 4 artists>"
      ]
     },
     "execution_count": 44,
     "metadata": {},
     "output_type": "execute_result"
    },
    {
     "data": {
      "image/png": "[encoded data removed]",
      "text/plain": [
       "<Figure size 640x480 with 1 Axes>"
      ]
     },
     "metadata": {},
     "output_type": "display_data"
    }
   ],
   "source": [
    "plt.bar(ice_cream_reviews.index, ice_cream_reviews)"
   ]
  },
  {
   "cell_type": "markdown",
   "id": "9fbf00fb-2418-460f-ae94-2a32b0c28952",
   "metadata": {},
   "source": [
    "Similarly, I use the data loaded into the variable `ice_cream_reviews` to generate the above bar graph using `matplotlib`. It displays the occurrence of each brand in the reviews dataset and sorts the counts from greatest to least."
   ]
  },
  {
   "cell_type": "markdown",
   "id": "f76442d6-d02e-4f26-b9d6-c3183e1d6929",
   "metadata": {},
   "source": [
    "## Pledge\n",
    "\n",
    "By submitting this work I hereby pledge that this is my own, personal work. I've acknowledged in the designated place at the top of this file all sources that I used to complete said work, including but not limited to: online resources, books, and electronic communications. I've noted all collaboration with fellow students and/or TA's. I did not copy or plagiarize another's work.\n",
    "\n",
    "> As a Boilermaker pursuing academic excellence, I pledge to be honest and true in all that I do. Accountable together – We are Purdue."
   ]
  }
 ],
 "metadata": {
  "kernelspec": {
   "display_name": "seminar",
   "language": "python",
   "name": "python3"
  },
  "language_info": {
   "codemirror_mode": {
    "name": "ipython",
    "version": 3
   },
   "file_extension": ".py",
   "mimetype": "text/x-python",
   "name": "python",
   "nbconvert_exporter": "python",
   "pygments_lexer": "ipython3",
   "version": "3.11.5"
  }
 },
 "nbformat": 4,
 "nbformat_minor": 5
}
